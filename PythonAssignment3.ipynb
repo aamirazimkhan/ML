{
 "cells": [
  {
   "cell_type": "raw",
   "metadata": {},
   "source": [
    "#1.1 - Write a Python Program to implement your own myreduce() function which works exactly like Python's built-in function\n",
    "# reduce()"
   ]
  },
  {
   "cell_type": "code",
   "execution_count": 11,
   "metadata": {},
   "outputs": [
    {
     "name": "stdout",
     "output_type": "stream",
     "text": [
      "69120\n"
     ]
    }
   ],
   "source": [
    "def func(x,y):\n",
    "    return x+y\n",
    "\n",
    "def myreduce(function,items):\n",
    "    sum=1\n",
    "    for i in items:\n",
    "        sum=sum*i\n",
    "    print(sum)\n",
    "    \n",
    "list=[2,3,4,5,2,3,4,2,4,3]\n",
    "\n",
    "myreduce(func,list)"
   ]
  },
  {
   "cell_type": "raw",
   "metadata": {},
   "source": [
    "1.2 - Write a Python program to implement your own myfilter() function which works exactly like Python's built-in function\n",
    "       filter()"
   ]
  },
  {
   "cell_type": "code",
   "execution_count": 15,
   "metadata": {},
   "outputs": [
    {
     "name": "stdout",
     "output_type": "stream",
     "text": [
      "8\n",
      "4\n",
      "2\n",
      "8\n",
      "54\n",
      "24\n",
      "38\n"
     ]
    }
   ],
   "source": [
    "def check_even(items):\n",
    "    for num in items:\n",
    "        if num%2==0:\n",
    "            if True:\n",
    "                print(num)\n",
    "            else:\n",
    "                return False\n",
    "\n",
    "def myfilter(function,iterable):\n",
    "    for i in iterable:\n",
    "        if i%2==0:\n",
    "            if True:\n",
    "                print(i)\n",
    "        \n",
    "l=[8,7,1,4,2,3,8,54,87,24,38]\n",
    "            \n",
    "myfilter(check_even,l)"
   ]
  },
  {
   "cell_type": "raw",
   "metadata": {},
   "source": [
    "2 - Write List comprehensions to produce the following Lists.\n",
    "    ['x','xx','xxx','xxxx','y','yy','yyy','yyyy','z','zz','zzz','zzzz']\n",
    "    \n",
    "    ['x','y','z','xx','yy','zz','xxx','yyy','zzz','xxxx','yyyy','zzzz']\n",
    "    \n",
    "    [[2],[3],[4],[3],[4],[5],[4],[5],[6]][[2,3,4,5],[3,4,5,6],[4,5,6,7],[5,6,7,8]]\n",
    "    \n",
    "    [(1,1),(2,1),(3,1),(1,2),(2,2),(3,2),(1,3),(2,3),(3,3)]\n",
    "   "
   ]
  },
  {
   "cell_type": "code",
   "execution_count": 5,
   "metadata": {},
   "outputs": [
    {
     "data": {
      "text/plain": [
       "['x', 'xx', 'xxx', 'xxxx', 'y', 'yy', 'yyy', 'yyyy', 'z', 'zz', 'zzz', 'zzzz']"
      ]
     },
     "execution_count": 5,
     "metadata": {},
     "output_type": "execute_result"
    }
   ],
   "source": [
    "list=['x','y','z']\n",
    "[item*i for item in list for i in range(1,5)]"
   ]
  },
  {
   "cell_type": "code",
   "execution_count": 2,
   "metadata": {},
   "outputs": [
    {
     "data": {
      "text/plain": [
       "['x', 'y', 'z', 'xx', 'yy', 'zz', 'xxx', 'yyy', 'zzz', 'xxxx', 'yyyy', 'zzzz']"
      ]
     },
     "execution_count": 2,
     "metadata": {},
     "output_type": "execute_result"
    }
   ],
   "source": [
    "list=['x','y','z']\n",
    "[item*i for i in range(1,5) for item in list]"
   ]
  },
  {
   "cell_type": "code",
   "execution_count": 9,
   "metadata": {},
   "outputs": [
    {
     "name": "stdout",
     "output_type": "stream",
     "text": [
      "[[2], [3], [4], [3], [4], [5], [4], [5], [6]] [[2, 3, 4, 5], [3, 4, 5, 6], [4, 5, 6, 7], [5, 6, 7, 8]]\n"
     ]
    }
   ],
   "source": [
    "list1 = [2,3,4]\n",
    "\n",
    "result1 = [[item+num] for item in list1 for num in range(0,3)]\n",
    "\n",
    "list2= [2,3,4,5]\n",
    "\n",
    "result2 = [[item+num for item in list2] for num in range(0,4)]\n",
    "\n",
    "print(result1,result2)"
   ]
  },
  {
   "cell_type": "code",
   "execution_count": 10,
   "metadata": {},
   "outputs": [
    {
     "data": {
      "text/plain": [
       "[(1, 1), (2, 1), (3, 1), (1, 2), (2, 2), (3, 2), (1, 3), (2, 3), (3, 3)]"
      ]
     },
     "execution_count": 10,
     "metadata": {},
     "output_type": "execute_result"
    }
   ],
   "source": [
    "list=[1,2,3]\n",
    "result = [(b,a) for a in list for b in list]\n",
    "result"
   ]
  },
  {
   "cell_type": "code",
   "execution_count": null,
   "metadata": {},
   "outputs": [],
   "source": []
  }
 ],
 "metadata": {
  "kernelspec": {
   "display_name": "Python 3",
   "language": "python",
   "name": "python3"
  },
  "language_info": {
   "codemirror_mode": {
    "name": "ipython",
    "version": 3
   },
   "file_extension": ".py",
   "mimetype": "text/x-python",
   "name": "python",
   "nbconvert_exporter": "python",
   "pygments_lexer": "ipython3",
   "version": "3.7.6"
  }
 },
 "nbformat": 4,
 "nbformat_minor": 4
}
