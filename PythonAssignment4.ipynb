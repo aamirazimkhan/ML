{
 "cells": [
  {
   "cell_type": "raw",
   "metadata": {},
   "source": [
    "1.1 - Write a Python Program(with class concepts) to find the area of the triangle using the below formula.\n",
    "        area = (s*(s-a)*(s-b)*(s-c))**0.5\n",
    "        \n",
    "      Function to take the length of the sides of triangle from user should be defined in the parent class and function to\n",
    "      calculate the area should be defined in subclass."
   ]
  },
  {
   "cell_type": "code",
   "execution_count": 6,
   "metadata": {},
   "outputs": [
    {
     "name": "stdout",
     "output_type": "stream",
     "text": [
      "Enter the value of a = 4\n",
      "Enter the value of b = 4\n",
      "Enter the value of c = 5\n",
      "area: 7.806247497997997\n"
     ]
    }
   ],
   "source": [
    "class Triangle:\n",
    "    \n",
    "    def __init__(self,a,b,c):\n",
    "        self.a=float(a)\n",
    "        self.b=float(b)\n",
    "        self.c=float(c)\n",
    "        \n",
    "    def area(self):\n",
    "        s=(self.a + self.b + self.c)/2\n",
    "        return ((s*(s-self.a)*(s-self.b)*(s-self.c))**0.5)\n",
    "    \n",
    "a = input(\"Enter the value of a = \")\n",
    "b = input(\"Enter the value of b = \")\n",
    "c = input(\"Enter the value of c = \")\n",
    "t = Triangle(a, b, c)\n",
    "\n",
    "print(\"area: {}\".format(t.area()))"
   ]
  },
  {
   "cell_type": "raw",
   "metadata": {},
   "source": [
    "1.2 - Write a function filter_long_words() that takes a list of words and an integer n and returns the list of words that are\n",
    "      longer than n."
   ]
  },
  {
   "cell_type": "code",
   "execution_count": 1,
   "metadata": {},
   "outputs": [
    {
     "data": {
      "text/plain": [
       "['python', 'hello', 'juliet', 'cricket', 'december']"
      ]
     },
     "execution_count": 1,
     "metadata": {},
     "output_type": "execute_result"
    }
   ],
   "source": [
    "def filter_long_words(items,n):\n",
    "    for i in items:\n",
    "        if len(i)>n:\n",
    "            return i\n",
    "            \n",
    "words=[['python','hello','juliet','cricket','december']]\n",
    "\n",
    "filter_long_words(words, 4)"
   ]
  },
  {
   "cell_type": "raw",
   "metadata": {},
   "source": [
    "2.1 - Write a Python program using function concept that maps list of words into a list of integers representing the lengths\n",
    "      of the corresponding words.\n",
    "      HINT: If a list [ab,cde,erty] is passed on to the python function output should come as [2,3,4] Here 2,3 and 4 are the\n",
    "      lengths of the words in the list."
   ]
  },
  {
   "cell_type": "code",
   "execution_count": 4,
   "metadata": {},
   "outputs": [
    {
     "name": "stdout",
     "output_type": "stream",
     "text": [
      "[1, 2, 8, 6]\n"
     ]
    }
   ],
   "source": [
    "def word_len(word):\n",
    "    return len(word)\n",
    "\n",
    "words_list=['I','am','learning','python']\n",
    "\n",
    "result=map(word_len,words_list)\n",
    "\n",
    "print(list(result))"
   ]
  },
  {
   "cell_type": "raw",
   "metadata": {},
   "source": [
    "2.2 - Write a Python function which takes a character (i.e a string of length 1) and returns True if it is a vowel, False\n",
    "      otherwise."
   ]
  },
  {
   "cell_type": "code",
   "execution_count": 3,
   "metadata": {},
   "outputs": [
    {
     "name": "stdout",
     "output_type": "stream",
     "text": [
      "True\n",
      "False\n"
     ]
    }
   ],
   "source": [
    "def check_for_vowel(char):\n",
    "    if char =='a' or char == 'e' or char == 'i' or char == 'o' or char == 'u':\n",
    "        return True\n",
    "    else:\n",
    "        return False\n",
    "\n",
    "print(check_for_vowel('e'))\n",
    "print(check_for_vowel('z'))"
   ]
  }
 ],
 "metadata": {
  "kernelspec": {
   "display_name": "Python 3",
   "language": "python",
   "name": "python3"
  },
  "language_info": {
   "codemirror_mode": {
    "name": "ipython",
    "version": 3
   },
   "file_extension": ".py",
   "mimetype": "text/x-python",
   "name": "python",
   "nbconvert_exporter": "python",
   "pygments_lexer": "ipython3",
   "version": "3.7.6"
  }
 },
 "nbformat": 4,
 "nbformat_minor": 4
}
